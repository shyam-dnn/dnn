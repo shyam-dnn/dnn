{
  "nbformat": 4,
  "nbformat_minor": 0,
  "metadata": {
    "colab": {
      "name": "ML0120EN-4.2-Review-CollaborativeFilteringwithRBM.ipynb",
      "version": "0.3.2",
      "provenance": []
    },
    "kernelspec": {
      "display_name": "Python 3",
      "language": "python",
      "name": "python3"
    }
  },
  "cells": [
    {
      "metadata": {
        "id": "zi5ImQLFvue-",
        "colab_type": "text"
      },
      "cell_type": "markdown",
      "source": [
        "<a href=\"https://www.bigdatauniversity.com\"><img src = \"https://ibm.box.com/shared/static/wbqvbi6o6ip0vz55ua5gp17g4f1k7ve9.png\" width = 300, align = \"center\"></a>\n",
        "\n",
        "<h1 align=center><font size = 5>RECOMMENDATION SYSTEM WITH A RESTRICTED BOLTZMANN MACHINE</font></h1>"
      ]
    },
    {
      "metadata": {
        "id": "aIOOvHrpvufD",
        "colab_type": "text"
      },
      "cell_type": "markdown",
      "source": [
        "Welcome to the **Recommendation System with a Restricted Boltzmann Machine** notebook. In this notebook, we study and go over the usage of a Restricted Boltzmann Machine (RBM) in a Collaborative Filtering based recommendation system. This system is an algorithm that recommends items by trying to find users that are similar to each other based on their item ratings. By the end of this notebook, you should have a deeper understanding of how Restricted Boltzmann Machines are applied, and how to build one using TensorFlow."
      ]
    },
    {
      "metadata": {
        "id": "HKxnXb5tv1eA",
        "colab_type": "code",
        "colab": {}
      },
      "cell_type": "code",
      "source": [
        ""
      ],
      "execution_count": 0,
      "outputs": []
    },
    {
      "metadata": {
        "id": "_kVuAmHnv16W",
        "colab_type": "code",
        "colab": {}
      },
      "cell_type": "code",
      "source": [
        ""
      ],
      "execution_count": 0,
      "outputs": []
    },
    {
      "metadata": {
        "id": "Gs6hsFCjvufE",
        "colab_type": "text"
      },
      "cell_type": "markdown",
      "source": [
        "### Table of contents\n",
        "\n",
        "<div class=\"alert alert-block alert-info\" style=\"margin-top: 20px\">\n",
        "- <p><a href=\"#ref1\">Acquiring the Data</a></p>\n",
        "- <p><a href=\"#ref2\">Loading in the Data</a></p>\n",
        "- <p><a href=\"#ref3\">The Restricted Boltzmann Machine model</a></p>\n",
        "- <p><a href=\"#ref4\">Setting the Model's Parameters</a></p>\n",
        "- <p><a href=\"#ref1337\">Recommendation</a></p>\n",
        "<p></p>\n",
        "</div>\n",
        "<br>"
      ]
    },
    {
      "metadata": {
        "id": "dvvzcv3zvufG",
        "colab_type": "text"
      },
      "cell_type": "markdown",
      "source": [
        "----------"
      ]
    },
    {
      "metadata": {
        "id": "geMA3McCvufG",
        "colab_type": "text"
      },
      "cell_type": "markdown",
      "source": [
        "<a id=\"ref1\"></a>\n",
        "# Acquiring the Data"
      ]
    },
    {
      "metadata": {
        "id": "ZnR3ou-IvufH",
        "colab_type": "text"
      },
      "cell_type": "markdown",
      "source": [
        "To start, we need to download the data we are going to use for our system. The datasets we're going to use were acquired by [GroupLens](http://grouplens.org/datasets/movielens/) and contain movies, users and movie ratings by these users.\n",
        "\n",
        "After the download is done, we extract the datasets to a directory that's easily accessible."
      ]
    },
    {
      "metadata": {
        "id": "wXrFWrdyvufI",
        "colab_type": "code",
        "colab": {
          "base_uri": "https://localhost:8080/",
          "height": 153
        },
        "outputId": "df5eb077-c688-40d4-9ea8-d2291d23c680"
      },
      "cell_type": "code",
      "source": [
        "!wget -O moviedataset.zip http://files.grouplens.org/datasets/movielens/ml-1m.zip\n",
        "!unzip -o moviedataset.zip -d data"
      ],
      "execution_count": 7,
      "outputs": [
        {
          "output_type": "stream",
          "text": [
            "\n",
            "Redirecting output to ‘wget-log’.\n",
            "Archive:  moviedataset.zip\n",
            "   creating: data/ml-1m/\n",
            "  inflating: data/ml-1m/movies.dat   \n",
            "  inflating: data/ml-1m/ratings.dat  \n",
            "  inflating: data/ml-1m/README       \n",
            "  inflating: data/ml-1m/users.dat    \n"
          ],
          "name": "stdout"
        }
      ]
    },
    {
      "metadata": {
        "id": "TaGwgJi-vufO",
        "colab_type": "text"
      },
      "cell_type": "markdown",
      "source": [
        "With the datasets in place, let's now import the necessary libraries. We will be using [Tensorflow](https://www.tensorflow.org/) and [Numpy](http://www.numpy.org/) together to model and initialize our Restricted Boltzmann Machine and [Pandas](http://pandas.pydata.org/pandas-docs/stable/) to manipulate our datasets. To import these libraries, run the code cell below."
      ]
    },
    {
      "metadata": {
        "id": "cKN1lAEpvufP",
        "colab_type": "code",
        "colab": {}
      },
      "cell_type": "code",
      "source": [
        "#Tensorflow library. Used to implement machine learning models\n",
        "import tensorflow as tf\n",
        "#Numpy contains helpful functions for efficient mathematical calculations\n",
        "import numpy as np\n",
        "#Dataframe manipulation library\n",
        "import pandas as pd\n",
        "#Graph plotting library\n",
        "import matplotlib.pyplot as plt\n",
        "%matplotlib inline"
      ],
      "execution_count": 0,
      "outputs": []
    },
    {
      "metadata": {
        "id": "uc93ho-uvufS",
        "colab_type": "text"
      },
      "cell_type": "markdown",
      "source": [
        "-------------"
      ]
    },
    {
      "metadata": {
        "id": "m8OE10MhvufS",
        "colab_type": "text"
      },
      "cell_type": "markdown",
      "source": [
        "<a id=\"ref2\"></a>\n",
        "# Loading in the Data\n",
        "\n",
        "Let's begin by loading in our data with Pandas. The .dat files containing our data are similar to CSV files, but instead of using the ',' (comma) character to separate entries, it uses '::' (two colons) characters instead. To let Pandas know that it should separate data points at every '::', we have to specify the `sep='::'` parameter when calling the function.\n",
        "\n",
        "Additionally, we also pass it the `header=None` parameter due to the fact that our files don't contain any headers.\n",
        "\n",
        "Let's start with the movies.dat file and take a look at its structure:"
      ]
    },
    {
      "metadata": {
        "id": "NJKtF8YevufT",
        "colab_type": "code",
        "colab": {
          "base_uri": "https://localhost:8080/",
          "height": 258
        },
        "outputId": "02e7ed5a-3209-469c-d8a8-c7d8b572efc8"
      },
      "cell_type": "code",
      "source": [
        "#Loading in the movies dataset\n",
        "movies_df = pd.read_csv('data/ml-1m/movies.dat', sep='::', header=None)\n",
        "movies_df.head()"
      ],
      "execution_count": 12,
      "outputs": [
        {
          "output_type": "stream",
          "text": [
            "/usr/local/lib/python3.6/dist-packages/ipykernel_launcher.py:1: ParserWarning: Falling back to the 'python' engine because the 'c' engine does not support regex separators (separators > 1 char and different from '\\s+' are interpreted as regex); you can avoid this warning by specifying engine='python'.\n",
            "  \"\"\"Entry point for launching an IPython kernel.\n"
          ],
          "name": "stderr"
        },
        {
          "output_type": "execute_result",
          "data": {
            "text/html": [
              "<div>\n",
              "<style scoped>\n",
              "    .dataframe tbody tr th:only-of-type {\n",
              "        vertical-align: middle;\n",
              "    }\n",
              "\n",
              "    .dataframe tbody tr th {\n",
              "        vertical-align: top;\n",
              "    }\n",
              "\n",
              "    .dataframe thead th {\n",
              "        text-align: right;\n",
              "    }\n",
              "</style>\n",
              "<table border=\"1\" class=\"dataframe\">\n",
              "  <thead>\n",
              "    <tr style=\"text-align: right;\">\n",
              "      <th></th>\n",
              "      <th>0</th>\n",
              "      <th>1</th>\n",
              "      <th>2</th>\n",
              "    </tr>\n",
              "  </thead>\n",
              "  <tbody>\n",
              "    <tr>\n",
              "      <th>0</th>\n",
              "      <td>1</td>\n",
              "      <td>Toy Story (1995)</td>\n",
              "      <td>Animation|Children's|Comedy</td>\n",
              "    </tr>\n",
              "    <tr>\n",
              "      <th>1</th>\n",
              "      <td>2</td>\n",
              "      <td>Jumanji (1995)</td>\n",
              "      <td>Adventure|Children's|Fantasy</td>\n",
              "    </tr>\n",
              "    <tr>\n",
              "      <th>2</th>\n",
              "      <td>3</td>\n",
              "      <td>Grumpier Old Men (1995)</td>\n",
              "      <td>Comedy|Romance</td>\n",
              "    </tr>\n",
              "    <tr>\n",
              "      <th>3</th>\n",
              "      <td>4</td>\n",
              "      <td>Waiting to Exhale (1995)</td>\n",
              "      <td>Comedy|Drama</td>\n",
              "    </tr>\n",
              "    <tr>\n",
              "      <th>4</th>\n",
              "      <td>5</td>\n",
              "      <td>Father of the Bride Part II (1995)</td>\n",
              "      <td>Comedy</td>\n",
              "    </tr>\n",
              "  </tbody>\n",
              "</table>\n",
              "</div>"
            ],
            "text/plain": [
              "   0                                   1                             2\n",
              "0  1                    Toy Story (1995)   Animation|Children's|Comedy\n",
              "1  2                      Jumanji (1995)  Adventure|Children's|Fantasy\n",
              "2  3             Grumpier Old Men (1995)                Comedy|Romance\n",
              "3  4            Waiting to Exhale (1995)                  Comedy|Drama\n",
              "4  5  Father of the Bride Part II (1995)                        Comedy"
            ]
          },
          "metadata": {
            "tags": []
          },
          "execution_count": 12
        }
      ]
    },
    {
      "metadata": {
        "id": "LdwYEU6xvufX",
        "colab_type": "text"
      },
      "cell_type": "markdown",
      "source": [
        "We can do the same for the ratings.dat file:"
      ]
    },
    {
      "metadata": {
        "id": "SyDFdodCvufX",
        "colab_type": "code",
        "colab": {
          "base_uri": "https://localhost:8080/",
          "height": 258
        },
        "outputId": "0a72b62c-b665-461b-c499-d912d0427d0d"
      },
      "cell_type": "code",
      "source": [
        "#Loading in the ratings dataset\n",
        "ratings_df = pd.read_csv('data/ml-1m/ratings.dat', sep='::', header=None)\n",
        "ratings_df.head()"
      ],
      "execution_count": 13,
      "outputs": [
        {
          "output_type": "stream",
          "text": [
            "/usr/local/lib/python3.6/dist-packages/ipykernel_launcher.py:1: ParserWarning: Falling back to the 'python' engine because the 'c' engine does not support regex separators (separators > 1 char and different from '\\s+' are interpreted as regex); you can avoid this warning by specifying engine='python'.\n",
            "  \"\"\"Entry point for launching an IPython kernel.\n"
          ],
          "name": "stderr"
        },
        {
          "output_type": "execute_result",
          "data": {
            "text/html": [
              "<div>\n",
              "<style scoped>\n",
              "    .dataframe tbody tr th:only-of-type {\n",
              "        vertical-align: middle;\n",
              "    }\n",
              "\n",
              "    .dataframe tbody tr th {\n",
              "        vertical-align: top;\n",
              "    }\n",
              "\n",
              "    .dataframe thead th {\n",
              "        text-align: right;\n",
              "    }\n",
              "</style>\n",
              "<table border=\"1\" class=\"dataframe\">\n",
              "  <thead>\n",
              "    <tr style=\"text-align: right;\">\n",
              "      <th></th>\n",
              "      <th>0</th>\n",
              "      <th>1</th>\n",
              "      <th>2</th>\n",
              "      <th>3</th>\n",
              "    </tr>\n",
              "  </thead>\n",
              "  <tbody>\n",
              "    <tr>\n",
              "      <th>0</th>\n",
              "      <td>1</td>\n",
              "      <td>1193</td>\n",
              "      <td>5</td>\n",
              "      <td>978300760</td>\n",
              "    </tr>\n",
              "    <tr>\n",
              "      <th>1</th>\n",
              "      <td>1</td>\n",
              "      <td>661</td>\n",
              "      <td>3</td>\n",
              "      <td>978302109</td>\n",
              "    </tr>\n",
              "    <tr>\n",
              "      <th>2</th>\n",
              "      <td>1</td>\n",
              "      <td>914</td>\n",
              "      <td>3</td>\n",
              "      <td>978301968</td>\n",
              "    </tr>\n",
              "    <tr>\n",
              "      <th>3</th>\n",
              "      <td>1</td>\n",
              "      <td>3408</td>\n",
              "      <td>4</td>\n",
              "      <td>978300275</td>\n",
              "    </tr>\n",
              "    <tr>\n",
              "      <th>4</th>\n",
              "      <td>1</td>\n",
              "      <td>2355</td>\n",
              "      <td>5</td>\n",
              "      <td>978824291</td>\n",
              "    </tr>\n",
              "  </tbody>\n",
              "</table>\n",
              "</div>"
            ],
            "text/plain": [
              "   0     1  2          3\n",
              "0  1  1193  5  978300760\n",
              "1  1   661  3  978302109\n",
              "2  1   914  3  978301968\n",
              "3  1  3408  4  978300275\n",
              "4  1  2355  5  978824291"
            ]
          },
          "metadata": {
            "tags": []
          },
          "execution_count": 13
        }
      ]
    },
    {
      "metadata": {
        "id": "NclbFInfvufb",
        "colab_type": "text"
      },
      "cell_type": "markdown",
      "source": [
        "So our movies_df variable contains a dataframe that stores a movie's unique ID number, title and genres, while our ratings_df variable stores a unique User ID number, a movie's ID that the user has watched, the user's rating to said movie and when the user rated that movie.\n",
        "\n",
        "Let's now rename the columns in these dataframes so we can better convey their data more intuitively:"
      ]
    },
    {
      "metadata": {
        "id": "9LKqm_r1vufb",
        "colab_type": "code",
        "colab": {}
      },
      "cell_type": "code",
      "source": [
        "movies_df.columns = ['MovieID', 'Title', 'Genres']\n",
        "ratings_df.columns = ['UserID', 'MovieID', 'Rating', 'Timestamp']"
      ],
      "execution_count": 0,
      "outputs": []
    },
    {
      "metadata": {
        "id": "5RUgxU69vufe",
        "colab_type": "text"
      },
      "cell_type": "markdown",
      "source": [
        "Here's our final movies_df:"
      ]
    },
    {
      "metadata": {
        "id": "jNXnk0gpvufe",
        "colab_type": "code",
        "colab": {
          "base_uri": "https://localhost:8080/",
          "height": 204
        },
        "outputId": "b632cecb-821e-4e1b-8258-3d748d9e453a"
      },
      "cell_type": "code",
      "source": [
        "movies_df.head()"
      ],
      "execution_count": 15,
      "outputs": [
        {
          "output_type": "execute_result",
          "data": {
            "text/html": [
              "<div>\n",
              "<style scoped>\n",
              "    .dataframe tbody tr th:only-of-type {\n",
              "        vertical-align: middle;\n",
              "    }\n",
              "\n",
              "    .dataframe tbody tr th {\n",
              "        vertical-align: top;\n",
              "    }\n",
              "\n",
              "    .dataframe thead th {\n",
              "        text-align: right;\n",
              "    }\n",
              "</style>\n",
              "<table border=\"1\" class=\"dataframe\">\n",
              "  <thead>\n",
              "    <tr style=\"text-align: right;\">\n",
              "      <th></th>\n",
              "      <th>MovieID</th>\n",
              "      <th>Title</th>\n",
              "      <th>Genres</th>\n",
              "    </tr>\n",
              "  </thead>\n",
              "  <tbody>\n",
              "    <tr>\n",
              "      <th>0</th>\n",
              "      <td>1</td>\n",
              "      <td>Toy Story (1995)</td>\n",
              "      <td>Animation|Children's|Comedy</td>\n",
              "    </tr>\n",
              "    <tr>\n",
              "      <th>1</th>\n",
              "      <td>2</td>\n",
              "      <td>Jumanji (1995)</td>\n",
              "      <td>Adventure|Children's|Fantasy</td>\n",
              "    </tr>\n",
              "    <tr>\n",
              "      <th>2</th>\n",
              "      <td>3</td>\n",
              "      <td>Grumpier Old Men (1995)</td>\n",
              "      <td>Comedy|Romance</td>\n",
              "    </tr>\n",
              "    <tr>\n",
              "      <th>3</th>\n",
              "      <td>4</td>\n",
              "      <td>Waiting to Exhale (1995)</td>\n",
              "      <td>Comedy|Drama</td>\n",
              "    </tr>\n",
              "    <tr>\n",
              "      <th>4</th>\n",
              "      <td>5</td>\n",
              "      <td>Father of the Bride Part II (1995)</td>\n",
              "      <td>Comedy</td>\n",
              "    </tr>\n",
              "  </tbody>\n",
              "</table>\n",
              "</div>"
            ],
            "text/plain": [
              "   MovieID                               Title                        Genres\n",
              "0        1                    Toy Story (1995)   Animation|Children's|Comedy\n",
              "1        2                      Jumanji (1995)  Adventure|Children's|Fantasy\n",
              "2        3             Grumpier Old Men (1995)                Comedy|Romance\n",
              "3        4            Waiting to Exhale (1995)                  Comedy|Drama\n",
              "4        5  Father of the Bride Part II (1995)                        Comedy"
            ]
          },
          "metadata": {
            "tags": []
          },
          "execution_count": 15
        }
      ]
    },
    {
      "metadata": {
        "id": "jI85YvjAvufh",
        "colab_type": "text"
      },
      "cell_type": "markdown",
      "source": [
        "And our final ratings_df:"
      ]
    },
    {
      "metadata": {
        "id": "MwPcXF2Yvufi",
        "colab_type": "code",
        "colab": {
          "base_uri": "https://localhost:8080/",
          "height": 204
        },
        "outputId": "11278bc8-da33-4d0a-c0aa-391df179d106"
      },
      "cell_type": "code",
      "source": [
        "ratings_df.head()"
      ],
      "execution_count": 16,
      "outputs": [
        {
          "output_type": "execute_result",
          "data": {
            "text/html": [
              "<div>\n",
              "<style scoped>\n",
              "    .dataframe tbody tr th:only-of-type {\n",
              "        vertical-align: middle;\n",
              "    }\n",
              "\n",
              "    .dataframe tbody tr th {\n",
              "        vertical-align: top;\n",
              "    }\n",
              "\n",
              "    .dataframe thead th {\n",
              "        text-align: right;\n",
              "    }\n",
              "</style>\n",
              "<table border=\"1\" class=\"dataframe\">\n",
              "  <thead>\n",
              "    <tr style=\"text-align: right;\">\n",
              "      <th></th>\n",
              "      <th>UserID</th>\n",
              "      <th>MovieID</th>\n",
              "      <th>Rating</th>\n",
              "      <th>Timestamp</th>\n",
              "    </tr>\n",
              "  </thead>\n",
              "  <tbody>\n",
              "    <tr>\n",
              "      <th>0</th>\n",
              "      <td>1</td>\n",
              "      <td>1193</td>\n",
              "      <td>5</td>\n",
              "      <td>978300760</td>\n",
              "    </tr>\n",
              "    <tr>\n",
              "      <th>1</th>\n",
              "      <td>1</td>\n",
              "      <td>661</td>\n",
              "      <td>3</td>\n",
              "      <td>978302109</td>\n",
              "    </tr>\n",
              "    <tr>\n",
              "      <th>2</th>\n",
              "      <td>1</td>\n",
              "      <td>914</td>\n",
              "      <td>3</td>\n",
              "      <td>978301968</td>\n",
              "    </tr>\n",
              "    <tr>\n",
              "      <th>3</th>\n",
              "      <td>1</td>\n",
              "      <td>3408</td>\n",
              "      <td>4</td>\n",
              "      <td>978300275</td>\n",
              "    </tr>\n",
              "    <tr>\n",
              "      <th>4</th>\n",
              "      <td>1</td>\n",
              "      <td>2355</td>\n",
              "      <td>5</td>\n",
              "      <td>978824291</td>\n",
              "    </tr>\n",
              "  </tbody>\n",
              "</table>\n",
              "</div>"
            ],
            "text/plain": [
              "   UserID  MovieID  Rating  Timestamp\n",
              "0       1     1193       5  978300760\n",
              "1       1      661       3  978302109\n",
              "2       1      914       3  978301968\n",
              "3       1     3408       4  978300275\n",
              "4       1     2355       5  978824291"
            ]
          },
          "metadata": {
            "tags": []
          },
          "execution_count": 16
        }
      ]
    },
    {
      "metadata": {
        "id": "WSD6bE_Avufm",
        "colab_type": "text"
      },
      "cell_type": "markdown",
      "source": [
        "-----------"
      ]
    },
    {
      "metadata": {
        "id": "geqYh-Utvufm",
        "colab_type": "text"
      },
      "cell_type": "markdown",
      "source": [
        "<a id=\"ref3\"></a>\n",
        "# The Restricted Boltzmann Machine model"
      ]
    },
    {
      "metadata": {
        "id": "uW0bmkjEvufm",
        "colab_type": "text"
      },
      "cell_type": "markdown",
      "source": [
        "<img src=\"https://ibm.box.com/shared/static/o049tx0dsllpbj3b546vuba25qqlzelq.png\" alt=\"RBM Model\" style=\"width: 300px;\"/>\n",
        "\n",
        "The Restricted Boltzmann Machine model has two layers of neurons, one of which is what we call a visible input layer and the other is called a hidden layer. The hidden layer is used to learn features from the information fed through the input layer. For our model, the input is going to contain X neurons, where X is the amount of movies in our dataset. Each of these neurons will possess a normalized rating value varying from 0 to 1 -- 0 meaning that a user has not watched that movie and the closer the value is to 1, the more the user likes the movie that neuron's representing. These normalized values, of course, will be extracted and normalized from the ratings dataset.\n",
        "\n",
        "After passing in the input, we train the RBM on it and have the hidden layer learn its features. These features are what we use to reconstruct the input, which in our case, will predict the ratings for movies that the input hasn't watched, which is exactly what we can use to recommend movies!\n",
        "\n",
        "We will now begin to format our dataset to follow the model's expected input."
      ]
    },
    {
      "metadata": {
        "id": "dZtj0q-7vufn",
        "colab_type": "text"
      },
      "cell_type": "markdown",
      "source": [
        "## Formatting the Data"
      ]
    },
    {
      "metadata": {
        "id": "TaagMaYQvufo",
        "colab_type": "text"
      },
      "cell_type": "markdown",
      "source": [
        "First let's see how many movies we have and see if the movie ID's correspond with that value:"
      ]
    },
    {
      "metadata": {
        "id": "enB97pO-vufq",
        "colab_type": "code",
        "colab": {
          "base_uri": "https://localhost:8080/",
          "height": 34
        },
        "outputId": "404522eb-472b-4c93-c457-64eb578b04f4"
      },
      "cell_type": "code",
      "source": [
        "len(movies_df)"
      ],
      "execution_count": 17,
      "outputs": [
        {
          "output_type": "execute_result",
          "data": {
            "text/plain": [
              "3883"
            ]
          },
          "metadata": {
            "tags": []
          },
          "execution_count": 17
        }
      ]
    },
    {
      "metadata": {
        "id": "eOoBVBMDvufu",
        "colab_type": "code",
        "colab": {
          "base_uri": "https://localhost:8080/",
          "height": 204
        },
        "outputId": "202d81c5-7f46-44cb-94a8-7d64d629a934"
      },
      "cell_type": "code",
      "source": [
        "movies_df.tail()"
      ],
      "execution_count": 18,
      "outputs": [
        {
          "output_type": "execute_result",
          "data": {
            "text/html": [
              "<div>\n",
              "<style scoped>\n",
              "    .dataframe tbody tr th:only-of-type {\n",
              "        vertical-align: middle;\n",
              "    }\n",
              "\n",
              "    .dataframe tbody tr th {\n",
              "        vertical-align: top;\n",
              "    }\n",
              "\n",
              "    .dataframe thead th {\n",
              "        text-align: right;\n",
              "    }\n",
              "</style>\n",
              "<table border=\"1\" class=\"dataframe\">\n",
              "  <thead>\n",
              "    <tr style=\"text-align: right;\">\n",
              "      <th></th>\n",
              "      <th>MovieID</th>\n",
              "      <th>Title</th>\n",
              "      <th>Genres</th>\n",
              "    </tr>\n",
              "  </thead>\n",
              "  <tbody>\n",
              "    <tr>\n",
              "      <th>3878</th>\n",
              "      <td>3948</td>\n",
              "      <td>Meet the Parents (2000)</td>\n",
              "      <td>Comedy</td>\n",
              "    </tr>\n",
              "    <tr>\n",
              "      <th>3879</th>\n",
              "      <td>3949</td>\n",
              "      <td>Requiem for a Dream (2000)</td>\n",
              "      <td>Drama</td>\n",
              "    </tr>\n",
              "    <tr>\n",
              "      <th>3880</th>\n",
              "      <td>3950</td>\n",
              "      <td>Tigerland (2000)</td>\n",
              "      <td>Drama</td>\n",
              "    </tr>\n",
              "    <tr>\n",
              "      <th>3881</th>\n",
              "      <td>3951</td>\n",
              "      <td>Two Family House (2000)</td>\n",
              "      <td>Drama</td>\n",
              "    </tr>\n",
              "    <tr>\n",
              "      <th>3882</th>\n",
              "      <td>3952</td>\n",
              "      <td>Contender, The (2000)</td>\n",
              "      <td>Drama|Thriller</td>\n",
              "    </tr>\n",
              "  </tbody>\n",
              "</table>\n",
              "</div>"
            ],
            "text/plain": [
              "      MovieID                       Title          Genres\n",
              "3878     3948     Meet the Parents (2000)          Comedy\n",
              "3879     3949  Requiem for a Dream (2000)           Drama\n",
              "3880     3950            Tigerland (2000)           Drama\n",
              "3881     3951     Two Family House (2000)           Drama\n",
              "3882     3952       Contender, The (2000)  Drama|Thriller"
            ]
          },
          "metadata": {
            "tags": []
          },
          "execution_count": 18
        }
      ]
    },
    {
      "metadata": {
        "id": "dljBK0uIvufy",
        "colab_type": "text"
      },
      "cell_type": "markdown",
      "source": [
        "As it is possible to notice, we have 3883 movies, while our ID's vary from 1 to 3952. Due to this, we won't be able to index movies through their ID since we would get memory indexing errors. To amend this, we can create a column that shows what spot in our list that particular movie is in:"
      ]
    },
    {
      "metadata": {
        "id": "0s83ifn3vufz",
        "colab_type": "code",
        "colab": {
          "base_uri": "https://localhost:8080/",
          "height": 204
        },
        "outputId": "864db9c2-ba82-4c6a-c3c7-877418c5a41b"
      },
      "cell_type": "code",
      "source": [
        "movies_df['List Index'] = movies_df.index\n",
        "movies_df.head()"
      ],
      "execution_count": 19,
      "outputs": [
        {
          "output_type": "execute_result",
          "data": {
            "text/html": [
              "<div>\n",
              "<style scoped>\n",
              "    .dataframe tbody tr th:only-of-type {\n",
              "        vertical-align: middle;\n",
              "    }\n",
              "\n",
              "    .dataframe tbody tr th {\n",
              "        vertical-align: top;\n",
              "    }\n",
              "\n",
              "    .dataframe thead th {\n",
              "        text-align: right;\n",
              "    }\n",
              "</style>\n",
              "<table border=\"1\" class=\"dataframe\">\n",
              "  <thead>\n",
              "    <tr style=\"text-align: right;\">\n",
              "      <th></th>\n",
              "      <th>MovieID</th>\n",
              "      <th>Title</th>\n",
              "      <th>Genres</th>\n",
              "      <th>List Index</th>\n",
              "    </tr>\n",
              "  </thead>\n",
              "  <tbody>\n",
              "    <tr>\n",
              "      <th>0</th>\n",
              "      <td>1</td>\n",
              "      <td>Toy Story (1995)</td>\n",
              "      <td>Animation|Children's|Comedy</td>\n",
              "      <td>0</td>\n",
              "    </tr>\n",
              "    <tr>\n",
              "      <th>1</th>\n",
              "      <td>2</td>\n",
              "      <td>Jumanji (1995)</td>\n",
              "      <td>Adventure|Children's|Fantasy</td>\n",
              "      <td>1</td>\n",
              "    </tr>\n",
              "    <tr>\n",
              "      <th>2</th>\n",
              "      <td>3</td>\n",
              "      <td>Grumpier Old Men (1995)</td>\n",
              "      <td>Comedy|Romance</td>\n",
              "      <td>2</td>\n",
              "    </tr>\n",
              "    <tr>\n",
              "      <th>3</th>\n",
              "      <td>4</td>\n",
              "      <td>Waiting to Exhale (1995)</td>\n",
              "      <td>Comedy|Drama</td>\n",
              "      <td>3</td>\n",
              "    </tr>\n",
              "    <tr>\n",
              "      <th>4</th>\n",
              "      <td>5</td>\n",
              "      <td>Father of the Bride Part II (1995)</td>\n",
              "      <td>Comedy</td>\n",
              "      <td>4</td>\n",
              "    </tr>\n",
              "  </tbody>\n",
              "</table>\n",
              "</div>"
            ],
            "text/plain": [
              "   MovieID                               Title                        Genres  \\\n",
              "0        1                    Toy Story (1995)   Animation|Children's|Comedy   \n",
              "1        2                      Jumanji (1995)  Adventure|Children's|Fantasy   \n",
              "2        3             Grumpier Old Men (1995)                Comedy|Romance   \n",
              "3        4            Waiting to Exhale (1995)                  Comedy|Drama   \n",
              "4        5  Father of the Bride Part II (1995)                        Comedy   \n",
              "\n",
              "   List Index  \n",
              "0           0  \n",
              "1           1  \n",
              "2           2  \n",
              "3           3  \n",
              "4           4  "
            ]
          },
          "metadata": {
            "tags": []
          },
          "execution_count": 19
        }
      ]
    },
    {
      "metadata": {
        "id": "bDOtPL-Xvuf4",
        "colab_type": "text"
      },
      "cell_type": "markdown",
      "source": [
        "With that, let's merge the ratings dataframe into the movies one so we can have the List Index values in both dataframes. Additionally we're also going to drop the Timestamp, Title and Genres columns since we won't be needing it to make recommendations."
      ]
    },
    {
      "metadata": {
        "id": "gRsnWclPvuf5",
        "colab_type": "code",
        "colab": {
          "base_uri": "https://localhost:8080/",
          "height": 204
        },
        "outputId": "e7581eac-c6fe-4512-c663-200191615e0e"
      },
      "cell_type": "code",
      "source": [
        "#Merging movies_df with ratings_df by MovieID\n",
        "merged_df = movies_df.merge(ratings_df, on='MovieID')\n",
        "#Dropping unecessary columns\n",
        "merged_df = merged_df.drop('Timestamp', axis=1).drop('Title', axis=1).drop('Genres', axis=1)\n",
        "#Displaying the result\n",
        "merged_df.head()"
      ],
      "execution_count": 20,
      "outputs": [
        {
          "output_type": "execute_result",
          "data": {
            "text/html": [
              "<div>\n",
              "<style scoped>\n",
              "    .dataframe tbody tr th:only-of-type {\n",
              "        vertical-align: middle;\n",
              "    }\n",
              "\n",
              "    .dataframe tbody tr th {\n",
              "        vertical-align: top;\n",
              "    }\n",
              "\n",
              "    .dataframe thead th {\n",
              "        text-align: right;\n",
              "    }\n",
              "</style>\n",
              "<table border=\"1\" class=\"dataframe\">\n",
              "  <thead>\n",
              "    <tr style=\"text-align: right;\">\n",
              "      <th></th>\n",
              "      <th>MovieID</th>\n",
              "      <th>List Index</th>\n",
              "      <th>UserID</th>\n",
              "      <th>Rating</th>\n",
              "    </tr>\n",
              "  </thead>\n",
              "  <tbody>\n",
              "    <tr>\n",
              "      <th>0</th>\n",
              "      <td>1</td>\n",
              "      <td>0</td>\n",
              "      <td>1</td>\n",
              "      <td>5</td>\n",
              "    </tr>\n",
              "    <tr>\n",
              "      <th>1</th>\n",
              "      <td>1</td>\n",
              "      <td>0</td>\n",
              "      <td>6</td>\n",
              "      <td>4</td>\n",
              "    </tr>\n",
              "    <tr>\n",
              "      <th>2</th>\n",
              "      <td>1</td>\n",
              "      <td>0</td>\n",
              "      <td>8</td>\n",
              "      <td>4</td>\n",
              "    </tr>\n",
              "    <tr>\n",
              "      <th>3</th>\n",
              "      <td>1</td>\n",
              "      <td>0</td>\n",
              "      <td>9</td>\n",
              "      <td>5</td>\n",
              "    </tr>\n",
              "    <tr>\n",
              "      <th>4</th>\n",
              "      <td>1</td>\n",
              "      <td>0</td>\n",
              "      <td>10</td>\n",
              "      <td>5</td>\n",
              "    </tr>\n",
              "  </tbody>\n",
              "</table>\n",
              "</div>"
            ],
            "text/plain": [
              "   MovieID  List Index  UserID  Rating\n",
              "0        1           0       1       5\n",
              "1        1           0       6       4\n",
              "2        1           0       8       4\n",
              "3        1           0       9       5\n",
              "4        1           0      10       5"
            ]
          },
          "metadata": {
            "tags": []
          },
          "execution_count": 20
        }
      ]
    },
    {
      "metadata": {
        "id": "lK-CTZwuvugC",
        "colab_type": "text"
      },
      "cell_type": "markdown",
      "source": [
        "Let's also group up the users by their user IDs and take a look at one of them."
      ]
    },
    {
      "metadata": {
        "id": "qRRvc5DuvugD",
        "colab_type": "code",
        "colab": {
          "base_uri": "https://localhost:8080/",
          "height": 235
        },
        "outputId": "2e28d30f-afad-47a3-dc7d-8668b51be8ab"
      },
      "cell_type": "code",
      "source": [
        "#Group up by UserID\n",
        "userGroup = merged_df.groupby('UserID')\n",
        "userGroup.first().head()"
      ],
      "execution_count": 21,
      "outputs": [
        {
          "output_type": "execute_result",
          "data": {
            "text/html": [
              "<div>\n",
              "<style scoped>\n",
              "    .dataframe tbody tr th:only-of-type {\n",
              "        vertical-align: middle;\n",
              "    }\n",
              "\n",
              "    .dataframe tbody tr th {\n",
              "        vertical-align: top;\n",
              "    }\n",
              "\n",
              "    .dataframe thead th {\n",
              "        text-align: right;\n",
              "    }\n",
              "</style>\n",
              "<table border=\"1\" class=\"dataframe\">\n",
              "  <thead>\n",
              "    <tr style=\"text-align: right;\">\n",
              "      <th></th>\n",
              "      <th>MovieID</th>\n",
              "      <th>List Index</th>\n",
              "      <th>Rating</th>\n",
              "    </tr>\n",
              "    <tr>\n",
              "      <th>UserID</th>\n",
              "      <th></th>\n",
              "      <th></th>\n",
              "      <th></th>\n",
              "    </tr>\n",
              "  </thead>\n",
              "  <tbody>\n",
              "    <tr>\n",
              "      <th>1</th>\n",
              "      <td>1</td>\n",
              "      <td>0</td>\n",
              "      <td>5</td>\n",
              "    </tr>\n",
              "    <tr>\n",
              "      <th>2</th>\n",
              "      <td>21</td>\n",
              "      <td>20</td>\n",
              "      <td>1</td>\n",
              "    </tr>\n",
              "    <tr>\n",
              "      <th>3</th>\n",
              "      <td>104</td>\n",
              "      <td>102</td>\n",
              "      <td>4</td>\n",
              "    </tr>\n",
              "    <tr>\n",
              "      <th>4</th>\n",
              "      <td>260</td>\n",
              "      <td>257</td>\n",
              "      <td>5</td>\n",
              "    </tr>\n",
              "    <tr>\n",
              "      <th>5</th>\n",
              "      <td>6</td>\n",
              "      <td>5</td>\n",
              "      <td>2</td>\n",
              "    </tr>\n",
              "  </tbody>\n",
              "</table>\n",
              "</div>"
            ],
            "text/plain": [
              "        MovieID  List Index  Rating\n",
              "UserID                             \n",
              "1             1           0       5\n",
              "2            21          20       1\n",
              "3           104         102       4\n",
              "4           260         257       5\n",
              "5             6           5       2"
            ]
          },
          "metadata": {
            "tags": []
          },
          "execution_count": 21
        }
      ]
    },
    {
      "metadata": {
        "id": "42vt2Q7cvugJ",
        "colab_type": "text"
      },
      "cell_type": "markdown",
      "source": [
        "Now, we can start formatting the data into input for the RBM. We're going to store the normalized users ratings into a list of lists called trX."
      ]
    },
    {
      "metadata": {
        "id": "JkypNQSMvugJ",
        "colab_type": "code",
        "colab": {}
      },
      "cell_type": "code",
      "source": [
        "#Amount of users used for training\n",
        "amountOfUsedUsers = 1000\n",
        "#Creating the training list\n",
        "trX = []\n",
        "#For each user in the group\n",
        "for userID, curUser in userGroup:\n",
        "    #Create a temp that stores every movie's rating\n",
        "    temp = [0]*len(movies_df)\n",
        "    #For each movie in curUser's movie list\n",
        "    for num, movie in curUser.iterrows():\n",
        "        #Divide the rating by 5 and store it\n",
        "        temp[movie['List Index']] = movie['Rating']/5.0\n",
        "    #Now add the list of ratings into the training list\n",
        "    trX.append(temp)\n",
        "    #Check to see if we finished adding in the amount of users for training\n",
        "    if amountOfUsedUsers == 0:\n",
        "        break\n",
        "    amountOfUsedUsers -= 1"
      ],
      "execution_count": 0,
      "outputs": []
    },
    {
      "metadata": {
        "id": "LVbtCwGBvugN",
        "colab_type": "text"
      },
      "cell_type": "markdown",
      "source": [
        "------------"
      ]
    },
    {
      "metadata": {
        "id": "FcGgD12tvugO",
        "colab_type": "text"
      },
      "cell_type": "markdown",
      "source": [
        "<a id=\"ref4\"></a>\n",
        "# Setting the Model's Parameters"
      ]
    },
    {
      "metadata": {
        "id": "KFK2mAcIvugP",
        "colab_type": "text"
      },
      "cell_type": "markdown",
      "source": [
        "Next, let's start building our RBM with Tensorflow. We'll begin by first determining the amount of hidden layers and then creating placeholder variables for storing our visible layer biases, hidden layer biases and weights that connect the hidden layer with the visible one. We will be arbitrarily setting the amount of hidden layers to 20. You can freely set this value to any number you want since each neuron in the hidden layer will end up learning a feature."
      ]
    },
    {
      "metadata": {
        "id": "aJhVhJa1vugP",
        "colab_type": "code",
        "colab": {}
      },
      "cell_type": "code",
      "source": [
        "hiddenUnits = 64\n",
        "visibleUnits = len(movies_df)\n",
        "vb = tf.placeholder(\"float\", [visibleUnits]) #Number of unique movies\n",
        "hb = tf.placeholder(\"float\", [hiddenUnits]) #Number of features we're going to learn\n",
        "W = tf.placeholder(\"float\", [visibleUnits, hiddenUnits])"
      ],
      "execution_count": 0,
      "outputs": []
    },
    {
      "metadata": {
        "id": "gDP6xZSivugS",
        "colab_type": "text"
      },
      "cell_type": "markdown",
      "source": [
        "We then move on to creating the visible and hidden layer units and setting their activation functions. In this case, we will be using the `tf.sigmoid` and `tf.relu` functions as nonlinear activations since it's what is usually used in RBM's."
      ]
    },
    {
      "metadata": {
        "id": "ey2MiZwAvugV",
        "colab_type": "code",
        "colab": {}
      },
      "cell_type": "code",
      "source": [
        "#Phase 1: Input Processing\n",
        "v0 = tf.placeholder(\"float\", [None, visibleUnits])\n",
        "_h0= tf.nn.sigmoid(tf.matmul(v0, W) + hb)\n",
        "h0 = tf.nn.relu(tf.sign(_h0 - tf.random_uniform(tf.shape(_h0))))\n",
        "#Phase 2: Reconstruction\n",
        "_v1 = tf.nn.sigmoid(tf.matmul(h0, tf.transpose(W)) + vb) \n",
        "v1 = tf.nn.relu(tf.sign(_v1 - tf.random_uniform(tf.shape(_v1))))\n",
        "h1 = tf.nn.sigmoid(tf.matmul(v1, W) + hb)"
      ],
      "execution_count": 0,
      "outputs": []
    },
    {
      "metadata": {
        "id": "FxSBpOsIvugY",
        "colab_type": "text"
      },
      "cell_type": "markdown",
      "source": [
        "Now we set the RBM training parameters and functions."
      ]
    },
    {
      "metadata": {
        "id": "p9pUsI2Xvugb",
        "colab_type": "code",
        "colab": {}
      },
      "cell_type": "code",
      "source": [
        "#Learning rate\n",
        "alpha = 0.5\n",
        "#Create the gradients\n",
        "w_pos_grad = tf.matmul(tf.transpose(v0), h0)\n",
        "w_neg_grad = tf.matmul(tf.transpose(v1), h1)\n",
        "#Calculate the Contrastive Divergence to maximize\n",
        "CD = (w_pos_grad - w_neg_grad) / tf.to_float(tf.shape(v0)[0])\n",
        "#Create methods to update the weights and biases\n",
        "update_w = W + alpha * CD\n",
        "update_vb = vb + alpha * tf.reduce_mean(v0 - v1, 0)\n",
        "update_hb = hb + alpha * tf.reduce_mean(h0 - h1, 0)"
      ],
      "execution_count": 0,
      "outputs": []
    },
    {
      "metadata": {
        "id": "ZC38WGLmvuge",
        "colab_type": "text"
      },
      "cell_type": "markdown",
      "source": [
        "And set the error function, which in this case will be the Mean Absolute Error Function."
      ]
    },
    {
      "metadata": {
        "id": "VKdbjDe5vuge",
        "colab_type": "code",
        "colab": {}
      },
      "cell_type": "code",
      "source": [
        "err = v0 - v1\n",
        "err_sum = tf.reduce_mean(err * err)"
      ],
      "execution_count": 0,
      "outputs": []
    },
    {
      "metadata": {
        "id": "G9c5U_CUvugh",
        "colab_type": "text"
      },
      "cell_type": "markdown",
      "source": [
        "We also have to initialize our variables. Thankfully, NumPy has a handy `zeros` function for this. We use it like so:"
      ]
    },
    {
      "metadata": {
        "id": "epm6u1t_vugi",
        "colab_type": "code",
        "colab": {}
      },
      "cell_type": "code",
      "source": [
        "#Current weight\n",
        "cur_w = np.zeros([visibleUnits, hiddenUnits], np.float32)\n",
        "#Current visible unit biases\n",
        "cur_vb = np.zeros([visibleUnits], np.float32)\n",
        "#Current hidden unit biases\n",
        "cur_hb = np.zeros([hiddenUnits], np.float32)\n",
        "#Previous weight\n",
        "prv_w = np.zeros([visibleUnits, hiddenUnits], np.float32)\n",
        "#Previous visible unit biases\n",
        "prv_vb = np.zeros([visibleUnits], np.float32)\n",
        "#Previous hidden unit biases\n",
        "prv_hb = np.zeros([hiddenUnits], np.float32)\n",
        "sess = tf.Session()\n",
        "sess.run(tf.global_variables_initializer())"
      ],
      "execution_count": 0,
      "outputs": []
    },
    {
      "metadata": {
        "id": "URGAc2t4vugk",
        "colab_type": "text"
      },
      "cell_type": "markdown",
      "source": [
        "Now we train the RBM with 15 epochs with each epoch using 10 batches with size 100. After training, we print out a graph with the error by epoch."
      ]
    },
    {
      "metadata": {
        "id": "9C0vC-KNvugm",
        "colab_type": "code",
        "colab": {
          "base_uri": "https://localhost:8080/",
          "height": 704
        },
        "outputId": "c114d817-6b8c-4435-bc24-b8a716b7c682"
      },
      "cell_type": "code",
      "source": [
        "epochs = 25\n",
        "batchsize = 100\n",
        "errors = []\n",
        "for i in range(epochs):\n",
        "    for start, end in zip( range(0, len(trX), batchsize), range(batchsize, len(trX), batchsize)):\n",
        "        batch = trX[start:end]\n",
        "        cur_w = sess.run(update_w, feed_dict={v0: batch, W: prv_w, vb: prv_vb, hb: prv_hb})\n",
        "        cur_vb = sess.run(update_vb, feed_dict={v0: batch, W: prv_w, vb: prv_vb, hb: prv_hb})\n",
        "        cur_nb = sess.run(update_hb, feed_dict={v0: batch, W: prv_w, vb: prv_vb, hb: prv_hb})\n",
        "        prv_w = cur_w\n",
        "        prv_vb = cur_vb\n",
        "        prv_hb = cur_nb\n",
        "    err = sess.run(err_sum, feed_dict={v0: trX, W: cur_w, vb: cur_vb, hb: cur_nb})\n",
        "    print('Epoch {:.0f} :: Error={:.5f}'.format(i, err))\n",
        "    errors.append(err)\n",
        "plt.plot(errors)\n",
        "plt.ylabel('Error')\n",
        "plt.xlabel('Epoch')\n",
        "plt.show()"
      ],
      "execution_count": 28,
      "outputs": [
        {
          "output_type": "stream",
          "text": [
            "Epoch 0 :: Error=0.17878\n",
            "Epoch 1 :: Error=0.10840\n",
            "Epoch 2 :: Error=0.08234\n",
            "Epoch 3 :: Error=0.06417\n",
            "Epoch 4 :: Error=0.05462\n",
            "Epoch 5 :: Error=0.04869\n",
            "Epoch 6 :: Error=0.04578\n",
            "Epoch 7 :: Error=0.04398\n",
            "Epoch 8 :: Error=0.04248\n",
            "Epoch 9 :: Error=0.04148\n",
            "Epoch 10 :: Error=0.04041\n",
            "Epoch 11 :: Error=0.03994\n",
            "Epoch 12 :: Error=0.03937\n",
            "Epoch 13 :: Error=0.03910\n",
            "Epoch 14 :: Error=0.03861\n",
            "Epoch 15 :: Error=0.03794\n",
            "Epoch 16 :: Error=0.03779\n",
            "Epoch 17 :: Error=0.03747\n",
            "Epoch 18 :: Error=0.03710\n",
            "Epoch 19 :: Error=0.03706\n",
            "Epoch 20 :: Error=0.03665\n",
            "Epoch 21 :: Error=0.03661\n",
            "Epoch 22 :: Error=0.03636\n",
            "Epoch 23 :: Error=0.03610\n",
            "Epoch 24 :: Error=0.03613\n"
          ],
          "name": "stdout"
        },
        {
          "output_type": "display_data",
          "data": {
            "image/png": "[encoded data removed]",
            "text/plain": [
              "<matplotlib.figure.Figure at 0x7f1a63d18128>"
            ]
          },
          "metadata": {
            "tags": []
          }
        }
      ]
    },
    {
      "metadata": {
        "id": "KayJAsxbvugp",
        "colab_type": "text"
      },
      "cell_type": "markdown",
      "source": [
        "--------------"
      ]
    },
    {
      "metadata": {
        "id": "I5ZyNP2evugq",
        "colab_type": "text"
      },
      "cell_type": "markdown",
      "source": [
        "<a id=\"ref1337\"></a>\n",
        "## Recommendation"
      ]
    },
    {
      "metadata": {
        "id": "Gk3XLO3Evugr",
        "colab_type": "text"
      },
      "cell_type": "markdown",
      "source": [
        "We can now predict movies that an arbitrarily selected user might like. This can be accomplished by feeding in the user's watched movie preferences into the RBM and then reconstructing the input. The values that the RBM gives us will attempt to estimate the user's preferences for movies that he hasn't watched based on the preferences of the users that the RBM was trained on."
      ]
    },
    {
      "metadata": {
        "id": "6DnsC-Xyvugs",
        "colab_type": "code",
        "colab": {}
      },
      "cell_type": "code",
      "source": [
        "#Selecting the input user\n",
        "inputUser = [trX[75]]"
      ],
      "execution_count": 0,
      "outputs": []
    },
    {
      "metadata": {
        "id": "5Wu6xauxvugt",
        "colab_type": "code",
        "colab": {}
      },
      "cell_type": "code",
      "source": [
        "#Feeding in the user and reconstructing the input\n",
        "hh0 = tf.nn.sigmoid(tf.matmul(v0, W) + hb)\n",
        "vv1 = tf.nn.sigmoid(tf.matmul(hh0, tf.transpose(W)) + vb)\n",
        "feed = sess.run(hh0, feed_dict={ v0: inputUser, W: prv_w, hb: prv_hb})\n",
        "rec = sess.run(vv1, feed_dict={ hh0: feed, W: prv_w, vb: prv_vb})"
      ],
      "execution_count": 0,
      "outputs": []
    },
    {
      "metadata": {
        "id": "VP9_LlTYvugv",
        "colab_type": "text"
      },
      "cell_type": "markdown",
      "source": [
        "We can then list the 20 most recommended movies for our mock user by sorting it by their scores given by our model."
      ]
    },
    {
      "metadata": {
        "id": "YooKT5Vlvugw",
        "colab_type": "code",
        "colab": {
          "base_uri": "https://localhost:8080/",
          "height": 669
        },
        "outputId": "b5ada9b9-6453-430f-ecd9-37c2aff47ab7"
      },
      "cell_type": "code",
      "source": [
        "movies_df[\"Recommendation Score\"] = rec[0]\n",
        "movies_df.sort_values([\"Recommendation Score\"], ascending=False).head(20)"
      ],
      "execution_count": 35,
      "outputs": [
        {
          "output_type": "execute_result",
          "data": {
            "text/html": [
              "<div>\n",
              "<style scoped>\n",
              "    .dataframe tbody tr th:only-of-type {\n",
              "        vertical-align: middle;\n",
              "    }\n",
              "\n",
              "    .dataframe tbody tr th {\n",
              "        vertical-align: top;\n",
              "    }\n",
              "\n",
              "    .dataframe thead th {\n",
              "        text-align: right;\n",
              "    }\n",
              "</style>\n",
              "<table border=\"1\" class=\"dataframe\">\n",
              "  <thead>\n",
              "    <tr style=\"text-align: right;\">\n",
              "      <th></th>\n",
              "      <th>MovieID</th>\n",
              "      <th>Title</th>\n",
              "      <th>Genres</th>\n",
              "      <th>List Index</th>\n",
              "      <th>Recommendation Score</th>\n",
              "    </tr>\n",
              "  </thead>\n",
              "  <tbody>\n",
              "    <tr>\n",
              "      <th>604</th>\n",
              "      <td>608</td>\n",
              "      <td>Fargo (1996)</td>\n",
              "      <td>Crime|Drama|Thriller</td>\n",
              "      <td>604</td>\n",
              "      <td>0.977479</td>\n",
              "    </tr>\n",
              "    <tr>\n",
              "      <th>2789</th>\n",
              "      <td>2858</td>\n",
              "      <td>American Beauty (1999)</td>\n",
              "      <td>Comedy|Drama</td>\n",
              "      <td>2789</td>\n",
              "      <td>0.963442</td>\n",
              "    </tr>\n",
              "    <tr>\n",
              "      <th>589</th>\n",
              "      <td>593</td>\n",
              "      <td>Silence of the Lambs, The (1991)</td>\n",
              "      <td>Drama|Thriller</td>\n",
              "      <td>589</td>\n",
              "      <td>0.917102</td>\n",
              "    </tr>\n",
              "    <tr>\n",
              "      <th>1575</th>\n",
              "      <td>1617</td>\n",
              "      <td>L.A. Confidential (1997)</td>\n",
              "      <td>Crime|Film-Noir|Mystery|Thriller</td>\n",
              "      <td>1575</td>\n",
              "      <td>0.913745</td>\n",
              "    </tr>\n",
              "    <tr>\n",
              "      <th>49</th>\n",
              "      <td>50</td>\n",
              "      <td>Usual Suspects, The (1995)</td>\n",
              "      <td>Crime|Thriller</td>\n",
              "      <td>49</td>\n",
              "      <td>0.893953</td>\n",
              "    </tr>\n",
              "    <tr>\n",
              "      <th>315</th>\n",
              "      <td>318</td>\n",
              "      <td>Shawshank Redemption, The (1994)</td>\n",
              "      <td>Drama</td>\n",
              "      <td>315</td>\n",
              "      <td>0.855853</td>\n",
              "    </tr>\n",
              "    <tr>\n",
              "      <th>293</th>\n",
              "      <td>296</td>\n",
              "      <td>Pulp Fiction (1994)</td>\n",
              "      <td>Crime|Drama</td>\n",
              "      <td>293</td>\n",
              "      <td>0.842423</td>\n",
              "    </tr>\n",
              "    <tr>\n",
              "      <th>523</th>\n",
              "      <td>527</td>\n",
              "      <td>Schindler's List (1993)</td>\n",
              "      <td>Drama|War</td>\n",
              "      <td>523</td>\n",
              "      <td>0.812214</td>\n",
              "    </tr>\n",
              "    <tr>\n",
              "      <th>1959</th>\n",
              "      <td>2028</td>\n",
              "      <td>Saving Private Ryan (1998)</td>\n",
              "      <td>Action|Drama|War</td>\n",
              "      <td>1959</td>\n",
              "      <td>0.790160</td>\n",
              "    </tr>\n",
              "    <tr>\n",
              "      <th>1195</th>\n",
              "      <td>1213</td>\n",
              "      <td>GoodFellas (1990)</td>\n",
              "      <td>Crime|Drama</td>\n",
              "      <td>1195</td>\n",
              "      <td>0.767663</td>\n",
              "    </tr>\n",
              "    <tr>\n",
              "      <th>3509</th>\n",
              "      <td>3578</td>\n",
              "      <td>Gladiator (2000)</td>\n",
              "      <td>Action|Drama</td>\n",
              "      <td>3509</td>\n",
              "      <td>0.729780</td>\n",
              "    </tr>\n",
              "    <tr>\n",
              "      <th>108</th>\n",
              "      <td>110</td>\n",
              "      <td>Braveheart (1995)</td>\n",
              "      <td>Action|Drama|War</td>\n",
              "      <td>108</td>\n",
              "      <td>0.721256</td>\n",
              "    </tr>\n",
              "    <tr>\n",
              "      <th>3091</th>\n",
              "      <td>3160</td>\n",
              "      <td>Magnolia (1999)</td>\n",
              "      <td>Drama</td>\n",
              "      <td>3091</td>\n",
              "      <td>0.715418</td>\n",
              "    </tr>\n",
              "    <tr>\n",
              "      <th>2693</th>\n",
              "      <td>2762</td>\n",
              "      <td>Sixth Sense, The (1999)</td>\n",
              "      <td>Thriller</td>\n",
              "      <td>2693</td>\n",
              "      <td>0.709792</td>\n",
              "    </tr>\n",
              "    <tr>\n",
              "      <th>2530</th>\n",
              "      <td>2599</td>\n",
              "      <td>Election (1999)</td>\n",
              "      <td>Comedy</td>\n",
              "      <td>2530</td>\n",
              "      <td>0.691244</td>\n",
              "    </tr>\n",
              "    <tr>\n",
              "      <th>1656</th>\n",
              "      <td>1704</td>\n",
              "      <td>Good Will Hunting (1997)</td>\n",
              "      <td>Drama</td>\n",
              "      <td>1656</td>\n",
              "      <td>0.582142</td>\n",
              "    </tr>\n",
              "    <tr>\n",
              "      <th>2937</th>\n",
              "      <td>3006</td>\n",
              "      <td>Insider, The (1999)</td>\n",
              "      <td>Drama</td>\n",
              "      <td>2937</td>\n",
              "      <td>0.566864</td>\n",
              "    </tr>\n",
              "    <tr>\n",
              "      <th>2623</th>\n",
              "      <td>2692</td>\n",
              "      <td>Run Lola Run (Lola rennt) (1998)</td>\n",
              "      <td>Action|Crime|Romance</td>\n",
              "      <td>2623</td>\n",
              "      <td>0.563555</td>\n",
              "    </tr>\n",
              "    <tr>\n",
              "      <th>1337</th>\n",
              "      <td>1358</td>\n",
              "      <td>Sling Blade (1996)</td>\n",
              "      <td>Drama|Thriller</td>\n",
              "      <td>1337</td>\n",
              "      <td>0.563242</td>\n",
              "    </tr>\n",
              "    <tr>\n",
              "      <th>2502</th>\n",
              "      <td>2571</td>\n",
              "      <td>Matrix, The (1999)</td>\n",
              "      <td>Action|Sci-Fi|Thriller</td>\n",
              "      <td>2502</td>\n",
              "      <td>0.554041</td>\n",
              "    </tr>\n",
              "  </tbody>\n",
              "</table>\n",
              "</div>"
            ],
            "text/plain": [
              "      MovieID                             Title  \\\n",
              "604       608                      Fargo (1996)   \n",
              "2789     2858            American Beauty (1999)   \n",
              "589       593  Silence of the Lambs, The (1991)   \n",
              "1575     1617          L.A. Confidential (1997)   \n",
              "49         50        Usual Suspects, The (1995)   \n",
              "315       318  Shawshank Redemption, The (1994)   \n",
              "293       296               Pulp Fiction (1994)   \n",
              "523       527           Schindler's List (1993)   \n",
              "1959     2028        Saving Private Ryan (1998)   \n",
              "1195     1213                 GoodFellas (1990)   \n",
              "3509     3578                  Gladiator (2000)   \n",
              "108       110                 Braveheart (1995)   \n",
              "3091     3160                   Magnolia (1999)   \n",
              "2693     2762           Sixth Sense, The (1999)   \n",
              "2530     2599                   Election (1999)   \n",
              "1656     1704          Good Will Hunting (1997)   \n",
              "2937     3006               Insider, The (1999)   \n",
              "2623     2692  Run Lola Run (Lola rennt) (1998)   \n",
              "1337     1358                Sling Blade (1996)   \n",
              "2502     2571                Matrix, The (1999)   \n",
              "\n",
              "                                Genres  List Index  Recommendation Score  \n",
              "604               Crime|Drama|Thriller         604              0.977479  \n",
              "2789                      Comedy|Drama        2789              0.963442  \n",
              "589                     Drama|Thriller         589              0.917102  \n",
              "1575  Crime|Film-Noir|Mystery|Thriller        1575              0.913745  \n",
              "49                      Crime|Thriller          49              0.893953  \n",
              "315                              Drama         315              0.855853  \n",
              "293                        Crime|Drama         293              0.842423  \n",
              "523                          Drama|War         523              0.812214  \n",
              "1959                  Action|Drama|War        1959              0.790160  \n",
              "1195                       Crime|Drama        1195              0.767663  \n",
              "3509                      Action|Drama        3509              0.729780  \n",
              "108                   Action|Drama|War         108              0.721256  \n",
              "3091                             Drama        3091              0.715418  \n",
              "2693                          Thriller        2693              0.709792  \n",
              "2530                            Comedy        2530              0.691244  \n",
              "1656                             Drama        1656              0.582142  \n",
              "2937                             Drama        2937              0.566864  \n",
              "2623              Action|Crime|Romance        2623              0.563555  \n",
              "1337                    Drama|Thriller        1337              0.563242  \n",
              "2502            Action|Sci-Fi|Thriller        2502              0.554041  "
            ]
          },
          "metadata": {
            "tags": []
          },
          "execution_count": 35
        }
      ]
    },
    {
      "metadata": {
        "id": "rYzCWfDmvugz",
        "colab_type": "text"
      },
      "cell_type": "markdown",
      "source": [
        "This is the end of the module. If you want, you can try to change the parameters in the code -- adding more units to the hidden layer, changing the loss functions or maybe something else to see if it changes anything. Does the model perform better? Does it take longer to compute?\n",
        "\n",
        "Thank you for reading this notebook. Hopefully, you now have a little more understanding of the RBM model, its applications and how it works with TensorFlow."
      ]
    },
    {
      "metadata": {
        "id": "H4erGgF4vug0",
        "colab_type": "text"
      },
      "cell_type": "markdown",
      "source": [
        "Created by Gabriel Garcez Barros Sousa\n",
        "\n",
        "Reviewed by <a href = \"https://www.linkedin.com/in/franciscomagioli\">Francisco Magioli</a>"
      ]
    },
    {
      "metadata": {
        "id": "34-AXXV0vug2",
        "colab_type": "text"
      },
      "cell_type": "markdown",
      "source": [
        "## References\n",
        "* [Restricted Boltzmann Machines for Collaborative Filtering](http://www.cs.utoronto.ca/~hinton/absps/netflixICML.pdf)\n",
        "* <font='red'>RBM Notebook</font>"
      ]
    }
  ]
}